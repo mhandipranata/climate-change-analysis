{
 "cells": [
  {
   "cell_type": "markdown",
   "metadata": {},
   "source": [
    "# Climate Change and Deaths from Cancer Analysis"
   ]
  },
  {
   "cell_type": "markdown",
   "metadata": {},
   "source": [
    "In this analysis, we would like to see the correlation between climate change and deaths from Cancer, specifically at the top 5 countries with the highest population in the world.\n",
    "1. China\n",
    "2. India\n",
    "3. United States\n",
    "4. Indonesia\n",
    "5. Brazil"
   ]
  },
  {
   "cell_type": "code",
   "execution_count": 1,
   "metadata": {},
   "outputs": [],
   "source": [
    "%matplotlib inline"
   ]
  },
  {
   "cell_type": "code",
   "execution_count": 8,
   "metadata": {},
   "outputs": [],
   "source": [
    "# Dependencies and Set Up\n",
    "import pandas as pd\n",
    "import numpy as np\n",
    "import requests\n",
    "import json\n",
    "import matplotlib.pyplot as plt\n",
    "from scipy import stats"
   ]
  },
  {
   "cell_type": "code",
   "execution_count": 9,
   "metadata": {},
   "outputs": [],
   "source": [
    "# Read csv for temperature by countries from 1991 to 2016\n",
    "temp_china = pd.read_csv(\"./Resources/temperature_1991_2016_China.csv\")\n",
    "temp_india = pd.read_csv(\"./Resources/temperature_1991_2016_India.csv\")\n",
    "temp_usa = pd.read_csv(\"./Resources/temperature_1991_2016_USA.csv\")\n",
    "temp_indonesia = pd.read_csv(\"./Resources/temperature_1991_2016_Indonesia.csv\")\n",
    "temp_brazil = pd.read_csv(\"./Resources/temperature_1991_2016_Brazil.csv\")\n"
   ]
  },
  {
   "cell_type": "code",
   "execution_count": 10,
   "metadata": {},
   "outputs": [
    {
     "data": {
      "text/html": [
       "<div>\n",
       "<style scoped>\n",
       "    .dataframe tbody tr th:only-of-type {\n",
       "        vertical-align: middle;\n",
       "    }\n",
       "\n",
       "    .dataframe tbody tr th {\n",
       "        vertical-align: top;\n",
       "    }\n",
       "\n",
       "    .dataframe thead th {\n",
       "        text-align: right;\n",
       "    }\n",
       "</style>\n",
       "<table border=\"1\" class=\"dataframe\">\n",
       "  <thead>\n",
       "    <tr style=\"text-align: right;\">\n",
       "      <th></th>\n",
       "      <th>Temperature - (Celsius)</th>\n",
       "      <th>Year</th>\n",
       "      <th>Statistics</th>\n",
       "      <th>Country</th>\n",
       "      <th>ISO3</th>\n",
       "    </tr>\n",
       "  </thead>\n",
       "  <tbody>\n",
       "    <tr>\n",
       "      <td>0</td>\n",
       "      <td>-8.05810</td>\n",
       "      <td>1991</td>\n",
       "      <td>Jan Average</td>\n",
       "      <td>China</td>\n",
       "      <td>CHN</td>\n",
       "    </tr>\n",
       "    <tr>\n",
       "      <td>1</td>\n",
       "      <td>-4.63730</td>\n",
       "      <td>1991</td>\n",
       "      <td>Feb Average</td>\n",
       "      <td>China</td>\n",
       "      <td>CHN</td>\n",
       "    </tr>\n",
       "    <tr>\n",
       "      <td>2</td>\n",
       "      <td>0.59422</td>\n",
       "      <td>1991</td>\n",
       "      <td>Mar Average</td>\n",
       "      <td>China</td>\n",
       "      <td>CHN</td>\n",
       "    </tr>\n",
       "    <tr>\n",
       "      <td>3</td>\n",
       "      <td>7.42692</td>\n",
       "      <td>1991</td>\n",
       "      <td>Apr Average</td>\n",
       "      <td>China</td>\n",
       "      <td>CHN</td>\n",
       "    </tr>\n",
       "    <tr>\n",
       "      <td>4</td>\n",
       "      <td>13.00760</td>\n",
       "      <td>1991</td>\n",
       "      <td>May Average</td>\n",
       "      <td>China</td>\n",
       "      <td>CHN</td>\n",
       "    </tr>\n",
       "  </tbody>\n",
       "</table>\n",
       "</div>"
      ],
      "text/plain": [
       "   Temperature - (Celsius)  Year    Statistics Country  ISO3\n",
       "0                 -8.05810  1991   Jan Average   China   CHN\n",
       "1                 -4.63730  1991   Feb Average   China   CHN\n",
       "2                  0.59422  1991   Mar Average   China   CHN\n",
       "3                  7.42692  1991   Apr Average   China   CHN\n",
       "4                 13.00760  1991   May Average   China   CHN"
      ]
     },
     "execution_count": 10,
     "metadata": {},
     "output_type": "execute_result"
    }
   ],
   "source": [
    "# Check and print the temperature data (China)\n",
    "temp_china.head()"
   ]
  },
  {
   "cell_type": "code",
   "execution_count": 11,
   "metadata": {},
   "outputs": [
    {
     "data": {
      "text/html": [
       "<div>\n",
       "<style scoped>\n",
       "    .dataframe tbody tr th:only-of-type {\n",
       "        vertical-align: middle;\n",
       "    }\n",
       "\n",
       "    .dataframe tbody tr th {\n",
       "        vertical-align: top;\n",
       "    }\n",
       "\n",
       "    .dataframe thead th {\n",
       "        text-align: right;\n",
       "    }\n",
       "</style>\n",
       "<table border=\"1\" class=\"dataframe\">\n",
       "  <thead>\n",
       "    <tr style=\"text-align: right;\">\n",
       "      <th></th>\n",
       "      <th>Temperature - (Celsius)</th>\n",
       "    </tr>\n",
       "    <tr>\n",
       "      <th>Year</th>\n",
       "      <th></th>\n",
       "    </tr>\n",
       "  </thead>\n",
       "  <tbody>\n",
       "    <tr>\n",
       "      <td>1991</td>\n",
       "      <td>6.576699</td>\n",
       "    </tr>\n",
       "    <tr>\n",
       "      <td>1992</td>\n",
       "      <td>6.348807</td>\n",
       "    </tr>\n",
       "    <tr>\n",
       "      <td>1993</td>\n",
       "      <td>6.395261</td>\n",
       "    </tr>\n",
       "    <tr>\n",
       "      <td>1994</td>\n",
       "      <td>6.983019</td>\n",
       "    </tr>\n",
       "    <tr>\n",
       "      <td>1995</td>\n",
       "      <td>6.752751</td>\n",
       "    </tr>\n",
       "    <tr>\n",
       "      <td>1996</td>\n",
       "      <td>6.417824</td>\n",
       "    </tr>\n",
       "    <tr>\n",
       "      <td>1997</td>\n",
       "      <td>6.843258</td>\n",
       "    </tr>\n",
       "    <tr>\n",
       "      <td>1998</td>\n",
       "      <td>7.503825</td>\n",
       "    </tr>\n",
       "    <tr>\n",
       "      <td>1999</td>\n",
       "      <td>7.299526</td>\n",
       "    </tr>\n",
       "    <tr>\n",
       "      <td>2000</td>\n",
       "      <td>6.737518</td>\n",
       "    </tr>\n",
       "    <tr>\n",
       "      <td>2001</td>\n",
       "      <td>7.096742</td>\n",
       "    </tr>\n",
       "    <tr>\n",
       "      <td>2002</td>\n",
       "      <td>7.325199</td>\n",
       "    </tr>\n",
       "    <tr>\n",
       "      <td>2003</td>\n",
       "      <td>7.021542</td>\n",
       "    </tr>\n",
       "    <tr>\n",
       "      <td>2004</td>\n",
       "      <td>7.324454</td>\n",
       "    </tr>\n",
       "    <tr>\n",
       "      <td>2005</td>\n",
       "      <td>6.960239</td>\n",
       "    </tr>\n",
       "    <tr>\n",
       "      <td>2006</td>\n",
       "      <td>7.491442</td>\n",
       "    </tr>\n",
       "    <tr>\n",
       "      <td>2007</td>\n",
       "      <td>7.724509</td>\n",
       "    </tr>\n",
       "    <tr>\n",
       "      <td>2008</td>\n",
       "      <td>7.179789</td>\n",
       "    </tr>\n",
       "    <tr>\n",
       "      <td>2009</td>\n",
       "      <td>7.298839</td>\n",
       "    </tr>\n",
       "    <tr>\n",
       "      <td>2010</td>\n",
       "      <td>7.061102</td>\n",
       "    </tr>\n",
       "    <tr>\n",
       "      <td>2011</td>\n",
       "      <td>6.900826</td>\n",
       "    </tr>\n",
       "    <tr>\n",
       "      <td>2012</td>\n",
       "      <td>6.588599</td>\n",
       "    </tr>\n",
       "    <tr>\n",
       "      <td>2013</td>\n",
       "      <td>7.225886</td>\n",
       "    </tr>\n",
       "    <tr>\n",
       "      <td>2014</td>\n",
       "      <td>7.036261</td>\n",
       "    </tr>\n",
       "    <tr>\n",
       "      <td>2015</td>\n",
       "      <td>7.483390</td>\n",
       "    </tr>\n",
       "    <tr>\n",
       "      <td>2016</td>\n",
       "      <td>7.445322</td>\n",
       "    </tr>\n",
       "  </tbody>\n",
       "</table>\n",
       "</div>"
      ],
      "text/plain": [
       "      Temperature - (Celsius)\n",
       "Year                         \n",
       "1991                 6.576699\n",
       "1992                 6.348807\n",
       "1993                 6.395261\n",
       "1994                 6.983019\n",
       "1995                 6.752751\n",
       "1996                 6.417824\n",
       "1997                 6.843258\n",
       "1998                 7.503825\n",
       "1999                 7.299526\n",
       "2000                 6.737518\n",
       "2001                 7.096742\n",
       "2002                 7.325199\n",
       "2003                 7.021542\n",
       "2004                 7.324454\n",
       "2005                 6.960239\n",
       "2006                 7.491442\n",
       "2007                 7.724509\n",
       "2008                 7.179789\n",
       "2009                 7.298839\n",
       "2010                 7.061102\n",
       "2011                 6.900826\n",
       "2012                 6.588599\n",
       "2013                 7.225886\n",
       "2014                 7.036261\n",
       "2015                 7.483390\n",
       "2016                 7.445322"
      ]
     },
     "execution_count": 11,
     "metadata": {},
     "output_type": "execute_result"
    }
   ],
   "source": [
    "# Grouping the DataFrame by year\n",
    "temp_china_by_year = temp_china.groupby([\"Year\"])\n",
    "\n",
    "# Calculate the average temperature by year and print in DataFrame\n",
    "temp_china_by_year_mean = pd.DataFrame(temp_china_by_year[\"Temperature - (Celsius)\"].mean())\n",
    "temp_china_by_year_mean"
   ]
  },
  {
   "cell_type": "code",
   "execution_count": 12,
   "metadata": {},
   "outputs": [
    {
     "data": {
      "image/png": "[encoded data removed]",
      "text/plain": [
       "<Figure size 432x288 with 1 Axes>"
      ]
     },
     "metadata": {
      "needs_background": "light"
     },
     "output_type": "display_data"
    }
   ],
   "source": [
    "# Plot the graph based on mean temperature in China by year (1991 to 2016)\n",
    "plt.plot(temp_china_by_year_mean.index, temp_china_by_year_mean[\"Temperature - (Celsius)\"],\n",
    "        color=\"green\")\n",
    "plt.show()"
   ]
  },
  {
   "cell_type": "code",
   "execution_count": 13,
   "metadata": {},
   "outputs": [
    {
     "name": "stdout",
     "output_type": "stream",
     "text": [
      "Float64Index([ 6.706293910256406,  6.732936948717949,  6.759579987179485,\n",
      "               6.786223025641021,  6.812866064102565,  6.839509102564101,\n",
      "               6.866152141025637,   6.89279517948718,  6.919438217948716,\n",
      "              6.9460812564102525,  6.972724294871796,  6.999367333333332,\n",
      "               7.026010371794868,  7.052653410256411, 7.0792964487179475,\n",
      "               7.105939487179484,  7.132582525641027,  7.159225564102563,\n",
      "               7.185868602564099, 7.2125116410256425,  7.239154679487179,\n",
      "               7.265797717948715,  7.292440756410258,  7.319083794871794,\n",
      "                7.34572683333333,  7.372369871794874],\n",
      "             dtype='float64', name='Year')\n"
     ]
    }
   ],
   "source": [
    "# Perform a linear regression on the temperature year by year\n",
    "year = temp_china_by_year_mean.index\n",
    "temp = temp_china_by_year_mean[\"Temperature - (Celsius)\"]\n",
    "\n",
    "(slope, intercept, r_value, p_value, std_err) = stats.linregress(year, temp)\n",
    "\n",
    "# Get regression values\n",
    "regress_values = year * slope + intercept\n",
    "print(regress_values)"
   ]
  },
  {
   "cell_type": "code",
   "execution_count": 15,
   "metadata": {},
   "outputs": [
    {
     "data": {
      "image/png": "[encoded data removed]",
      "text/plain": [
       "<Figure size 432x288 with 1 Axes>"
      ]
     },
     "metadata": {
      "needs_background": "light"
     },
     "output_type": "display_data"
    }
   ],
   "source": [
    "# Create plot for temperature in China from 1991 to 2016 with the line regression\n",
    "plt.plot(temp_china_by_year_mean.index, temp_china_by_year_mean[\"Temperature - (Celsius)\"],\n",
    "        color=\"green\")\n",
    "plt.plot(year, regress_values, color=\"red\")\n",
    "plt.title(\"Temperature (C) in China from 1991 to 2016\")\n",
    "plt.xlabel(\"Year\")\n",
    "plt.ylabel(\"Temperature (C)\")\n",
    "plt.show()"
   ]
  },
  {
   "cell_type": "code",
   "execution_count": null,
   "metadata": {},
   "outputs": [],
   "source": [
    "# Check and print the temperature data (India)\n",
    "temp_india.head()"
   ]
  },
  {
   "cell_type": "code",
   "execution_count": null,
   "metadata": {},
   "outputs": [],
   "source": [
    "# Check and print the temperature data (USA)\n",
    "temp_usa.head()"
   ]
  },
  {
   "cell_type": "code",
   "execution_count": null,
   "metadata": {},
   "outputs": [],
   "source": [
    "# Check and print the temperature data (Indonesia)\n",
    "temp_indonesia.head()"
   ]
  },
  {
   "cell_type": "code",
   "execution_count": null,
   "metadata": {},
   "outputs": [],
   "source": [
    "# Check and print the temperature data (Brazil)\n",
    "temp_brazil.head()"
   ]
  },
  {
   "cell_type": "code",
   "execution_count": null,
   "metadata": {},
   "outputs": [],
   "source": [
    "# Read the csv for the annual CO2 emission by country\n",
    "CO2_emission = pd.read_csv(\"./Resources/annual_co2_emissions_by_region.csv\")\n",
    "CO2_emission.head()"
   ]
  },
  {
   "cell_type": "code",
   "execution_count": null,
   "metadata": {},
   "outputs": [],
   "source": [
    "# Rename the column name\n",
    "CO2_emission = CO2_emission.rename(\n",
    "    columns = {\"Entity\": \"Country\", \"Annual CO2 emissions (tonnes )\": \"CO2 emissions (tonnes)\"})\n",
    "CO2_emission.head()"
   ]
  },
  {
   "cell_type": "code",
   "execution_count": null,
   "metadata": {},
   "outputs": [],
   "source": [
    "# Extract only China data\n",
    "columns = [\"Country\", \"Year\", \"CO2 emissions (tonnes)\"]\n",
    "\n",
    "CO2_emission_china = CO2_emission.loc[(CO2_emission[\"Country\"] == \"China\"), columns]\n",
    "CO2_emission_china.head()"
   ]
  },
  {
   "cell_type": "code",
   "execution_count": null,
   "metadata": {},
   "outputs": [],
   "source": [
    "# Extract China data for 1991 to 2016 only\n",
    "CO2_emission_china = CO2_emission_china.set_index(\"Year\")\n",
    "\n",
    "years = np.arange(1991, 2017, 1)\n",
    "\n",
    "years_91_16 = []\n",
    "\n",
    "for year in years:\n",
    "    years_91_16.append(year)\n",
    "    \n",
    "# years_91_16\n",
    "\n",
    "CO2_emission_china = CO2_emission_china.loc[years_91_16]\n",
    "CO2_emission_china.head(15)"
   ]
  },
  {
   "cell_type": "code",
   "execution_count": null,
   "metadata": {},
   "outputs": [],
   "source": [
    "# Extract only India data\n",
    "columns = [\"Country\", \"Year\", \"CO2 emissions (tonnes)\"]\n",
    "\n",
    "CO2_emission_india = CO2_emission.loc[(CO2_emission[\"Country\"] == \"India\"), columns]\n",
    "CO2_emission_india.head()"
   ]
  },
  {
   "cell_type": "code",
   "execution_count": null,
   "metadata": {},
   "outputs": [],
   "source": [
    "# Extract India data for 1991 to 2016 only\n",
    "CO2_emission_india = CO2_emission_india.set_index(\"Year\")\n",
    "\n",
    "CO2_emission_india = CO2_emission_india.loc[years_91_16]\n",
    "CO2_emission_india.head(15)"
   ]
  },
  {
   "cell_type": "code",
   "execution_count": null,
   "metadata": {},
   "outputs": [],
   "source": [
    "# Extract only United States data\n",
    "columns = [\"Country\", \"Year\", \"CO2 emissions (tonnes)\"]\n",
    "\n",
    "CO2_emission_usa = CO2_emission.loc[(CO2_emission[\"Country\"] == \"United States\"), columns]\n",
    "CO2_emission_usa.head()"
   ]
  },
  {
   "cell_type": "code",
   "execution_count": null,
   "metadata": {},
   "outputs": [],
   "source": [
    "# Extract United States data for 1991 to 2016 only\n",
    "CO2_emission_usa = CO2_emission_usa.set_index(\"Year\")\n",
    "\n",
    "CO2_emission_usa = CO2_emission_usa.loc[years_91_16]\n",
    "CO2_emission_usa.head(15)"
   ]
  },
  {
   "cell_type": "code",
   "execution_count": null,
   "metadata": {},
   "outputs": [],
   "source": [
    "# Extract only Indonesia data\n",
    "columns = [\"Country\", \"Year\", \"CO2 emissions (tonnes)\"]\n",
    "\n",
    "CO2_emission_indonesia = CO2_emission.loc[(CO2_emission[\"Country\"] == \"Indonesia\"), columns]\n",
    "CO2_emission_indonesia.head()"
   ]
  },
  {
   "cell_type": "code",
   "execution_count": null,
   "metadata": {},
   "outputs": [],
   "source": [
    "# Extract Indonesia data for 1991 to 2016 only\n",
    "CO2_emission_indonesia = CO2_emission_indonesia.set_index(\"Year\")\n",
    "\n",
    "CO2_emission_indonesia = CO2_emission_indonesia.loc[years_91_16]\n",
    "CO2_emission_indonesia.head(15)"
   ]
  },
  {
   "cell_type": "code",
   "execution_count": null,
   "metadata": {},
   "outputs": [],
   "source": [
    "# Extract only Brazil data\n",
    "columns = [\"Country\", \"Year\", \"CO2 emissions (tonnes)\"]\n",
    "\n",
    "CO2_emission_brazil = CO2_emission.loc[(CO2_emission[\"Country\"] == \"Brazil\"), columns]\n",
    "CO2_emission_brazil.head()"
   ]
  },
  {
   "cell_type": "code",
   "execution_count": null,
   "metadata": {},
   "outputs": [],
   "source": [
    "# Extract Brazil data for 1991 to 2016 only\n",
    "CO2_emission_brazil = CO2_emission_brazil.set_index(\"Year\")\n",
    "\n",
    "CO2_emission_brazil = CO2_emission_brazil.loc[years_91_16]\n",
    "CO2_emission_brazil.head(15)"
   ]
  },
  {
   "cell_type": "code",
   "execution_count": null,
   "metadata": {},
   "outputs": [],
   "source": [
    "# Read the csv for total cancer deaths by cancer types\n",
    "cancer_deaths = pd.read_csv(\"./Resources/total_cancer_deaths_by_type.csv\")\n",
    "cancer_deaths.head()"
   ]
  },
  {
   "cell_type": "code",
   "execution_count": null,
   "metadata": {},
   "outputs": [],
   "source": [
    "# Seeing the list of column names\n",
    "list(cancer_deaths.columns)"
   ]
  },
  {
   "cell_type": "code",
   "execution_count": null,
   "metadata": {},
   "outputs": [],
   "source": [
    "# Extracting the columns for Country/Entity, Year, and deaths because of lung cancer\n",
    "lung_cancer_deaths = cancer_deaths.loc[:, [\"Entity\", \"Year\", \"Tracheal, bronchus, and lung cancer (deaths)\"]]\n",
    "lung_cancer_deaths.head()"
   ]
  },
  {
   "cell_type": "code",
   "execution_count": null,
   "metadata": {},
   "outputs": [],
   "source": [
    "# Rename the column name\n",
    "lung_cancer_deaths = lung_cancer_deaths.rename(columns = {\"Entity\": \"Country\"})\n",
    "lung_cancer_deaths.head()"
   ]
  },
  {
   "cell_type": "code",
   "execution_count": null,
   "metadata": {},
   "outputs": [],
   "source": [
    "# Extract the deaths caused by lung cancer for China only\n",
    "lung_cancer_deaths_china = lung_cancer_deaths.loc[lung_cancer_deaths[\"Country\"] == \"China\"]\n",
    "\n",
    "# Set index as year and extract the deaths caused by lung cancer in China for year 1991 to 2016 only\n",
    "lung_cancer_deaths_china = lung_cancer_deaths_china.set_index(\"Year\")\n",
    "lung_cancer_deaths_china = lung_cancer_deaths_china.loc[years_91_16]\n",
    "\n",
    "lung_cancer_deaths_china.head(15)\n"
   ]
  },
  {
   "cell_type": "code",
   "execution_count": null,
   "metadata": {},
   "outputs": [],
   "source": [
    "# Extract the deaths caused by lung cancer for India only\n",
    "lung_cancer_deaths_india = lung_cancer_deaths.loc[lung_cancer_deaths[\"Country\"] == \"India\"]\n",
    "\n",
    "# Set index as year and extract the deaths caused by lung cancer in India for year 1991 to 2016 only\n",
    "lung_cancer_deaths_india = lung_cancer_deaths_india.set_index(\"Year\")\n",
    "lung_cancer_deaths_india = lung_cancer_deaths_india.loc[years_91_16]\n",
    "\n",
    "lung_cancer_deaths_india.head(15)"
   ]
  },
  {
   "cell_type": "code",
   "execution_count": null,
   "metadata": {},
   "outputs": [],
   "source": [
    "# Extract the deaths caused by lung cancer for United States only\n",
    "lung_cancer_deaths_usa = lung_cancer_deaths.loc[lung_cancer_deaths[\"Country\"] == \"United States\"]\n",
    "\n",
    "# Set index as year and extract the deaths caused by lung cancer in United States for year 1991 to 2016 only\n",
    "lung_cancer_deaths_usa = lung_cancer_deaths_usa.set_index(\"Year\")\n",
    "lung_cancer_deaths_usa = lung_cancer_deaths_usa.loc[years_91_16]\n",
    "\n",
    "lung_cancer_deaths_usa.head(15)"
   ]
  },
  {
   "cell_type": "code",
   "execution_count": null,
   "metadata": {},
   "outputs": [],
   "source": [
    "# Extract the deaths caused by lung cancer for Indonesia only\n",
    "lung_cancer_deaths_indonesia = lung_cancer_deaths.loc[lung_cancer_deaths[\"Country\"] == \"Indonesia\"]\n",
    "\n",
    "# Set index as year and extract the deaths caused by lung cancer in Indonesia for year 1991 to 2016 only\n",
    "lung_cancer_deaths_indonesia = lung_cancer_deaths_indonesia.set_index(\"Year\")\n",
    "lung_cancer_deaths_indonesia = lung_cancer_deaths_indonesia.loc[years_91_16]\n",
    "\n",
    "lung_cancer_deaths_indonesia.head(15)"
   ]
  },
  {
   "cell_type": "code",
   "execution_count": null,
   "metadata": {},
   "outputs": [],
   "source": [
    "# Extract the deaths caused by lung cancer for Brazil only\n",
    "lung_cancer_deaths_brazil = lung_cancer_deaths.loc[lung_cancer_deaths[\"Country\"] == \"Brazil\"]\n",
    "\n",
    "# Set index as year and extract the deaths caused by lung cancer in Brazil for year 1991 to 2016 only\n",
    "lung_cancer_deaths_brazil = lung_cancer_deaths_brazil.set_index(\"Year\")\n",
    "lung_cancer_deaths_brazil = lung_cancer_deaths_brazil.loc[years_91_16]\n",
    "\n",
    "lung_cancer_deaths_brazil.head(15)"
   ]
  },
  {
   "cell_type": "code",
   "execution_count": null,
   "metadata": {},
   "outputs": [],
   "source": [
    "# Plot the graph based on CO2 emission data for China\n",
    "plt.plot(CO2_emission_china.index, CO2_emission_china[\"CO2 emissions (tonnes)\"], \n",
    "         color=\"red\", marker=\"o\", markersize=5, linewidth=0.5)\n",
    "\n",
    "plt.show()"
   ]
  },
  {
   "cell_type": "code",
   "execution_count": null,
   "metadata": {},
   "outputs": [],
   "source": [
    "# Plot the graph based on lung cancer deaths data for China \n",
    "plt.plot(lung_cancer_deaths_china.index, lung_cancer_deaths_china[\"Tracheal, bronchus, and lung cancer (deaths)\"],\n",
    "        color=\"blue\", marker=\"o\", markersize=5, linewidth=0.5)\n",
    "plt.show()"
   ]
  },
  {
   "cell_type": "code",
   "execution_count": null,
   "metadata": {},
   "outputs": [],
   "source": [
    "# Plot both CO2 emission and lung cancer deaths data for China in one graph\n",
    "years = np.arange(1991, 2017, 1)\n",
    "\n",
    "years_label = []\n",
    "for year in years:\n",
    "    years_label.append(year)\n",
    "\n",
    "fig, ax1 = plt.subplots(figsize=(10,10))\n",
    "\n",
    "ax1.plot(years, CO2_emission_china[\"CO2 emissions (tonnes)\"],\n",
    "        color=\"red\", linewidth=1)\n",
    "ax1.set_xlabel(\"Year\")\n",
    "ax1.set_ylabel(\"CO2 Emissions in China (Tonnes)\", color=\"red\")\n",
    "ax1.set_xticks(years_label)\n",
    "ax1.set_xticklabels(years_label, rotation=45)\n",
    "\n",
    "ax2 = ax1.twinx()\n",
    "\n",
    "ax2.plot(years, lung_cancer_deaths_china[\"Tracheal, bronchus, and lung cancer (deaths)\"],\n",
    "        color=\"blue\", linewidth=1)\n",
    "ax2.set_ylabel(\"Tracheal, bronchus, and lung cancer (deaths)\", color=\"blue\")\n",
    "\n",
    "# fig.tight_layout()\n",
    "plt.title(\"CO2 Emissions and Deaths Caused by Tracheal, Bronchus, Lung Cancer in China from 1991 to 2016\")\n",
    "plt.show()\n"
   ]
  },
  {
   "cell_type": "code",
   "execution_count": null,
   "metadata": {},
   "outputs": [],
   "source": []
  }
 ],
 "metadata": {
  "kernelspec": {
   "display_name": "Python 3",
   "language": "python",
   "name": "python3"
  },
  "language_info": {
   "codemirror_mode": {
    "name": "ipython",
    "version": 3
   },
   "file_extension": ".py",
   "mimetype": "text/x-python",
   "name": "python",
   "nbconvert_exporter": "python",
   "pygments_lexer": "ipython3",
   "version": "3.7.4"
  }
 },
 "nbformat": 4,
 "nbformat_minor": 2
}
